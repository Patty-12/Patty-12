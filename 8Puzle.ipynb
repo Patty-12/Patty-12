{
  "nbformat": 4,
  "nbformat_minor": 0,
  "metadata": {
    "colab": {
      "provenance": [],
      "authorship_tag": "ABX9TyODQQPye4eRw8bMHgWnkuX9",
      "include_colab_link": true
    },
    "kernelspec": {
      "name": "python3",
      "display_name": "Python 3"
    },
    "language_info": {
      "name": "python"
    }
  },
  "cells": [
    {
      "cell_type": "markdown",
      "metadata": {
        "id": "view-in-github",
        "colab_type": "text"
      },
      "source": [
        "<a href=\"https://colab.research.google.com/github/Patty-12/Patty-12/blob/main/8Puzle.ipynb\" target=\"_parent\"><img src=\"https://colab.research.google.com/assets/colab-badge.svg\" alt=\"Open In Colab\"/></a>"
      ]
    },
    {
      "cell_type": "markdown",
      "source": [
        "**Taller de la Materia de Inteligncia Artificial**"
      ],
      "metadata": {
        "id": "OoRoGwjNUupy"
      }
    },
    {
      "cell_type": "markdown",
      "source": [
        "Implementación del código en Python para resolver el problema de 8-puzzle usando las técnicas:\n",
        "\n",
        "  Algoritmo A* con la hurística de Manhattan:"
      ],
      "metadata": {
        "id": "s9pQgD9OU5Wq"
      }
    },
    {
      "cell_type": "code",
      "source": [
        "import heapq\n",
        "\n",
        "class Puzzle:\n",
        "    def __init__(self, estado, movimiento_previo=None, movimientos=0):\n",
        "        self.estado = estado\n",
        "        self.movimiento_previo = movimiento_previo\n",
        "        self.movimientos = movimientos\n",
        "\n",
        "    def __lt__(self, otro):\n",
        "        return self.movimientos + self.heuristica() < otro.movimientos + otro.heuristica()\n",
        "\n",
        "    def __eq__(self, otro):\n",
        "        return self.estado == otro.estado\n",
        "\n",
        "    def __hash__(self):\n",
        "        return hash(str(self.estado))\n",
        "\n",
        "    def heuristica(self):\n",
        "        distancia = 0\n",
        "        for i in range(3):\n",
        "            for j in range(3):\n",
        "                if self.estado[i][j] != 0:\n",
        "                    x, y = divmod(self.estado[i][j]-1, 3)\n",
        "                    distancia += abs(x - i) + abs(y - j)\n",
        "        return distancia\n",
        "\n",
        "    def es_objetivo(self):\n",
        "      # return self.estado == [[1,2,3],[8,0,4],[7,6,5]]\n",
        "       return self.estado == [[1,2,3],[4,5,6],[7,8,0]]\n",
        "      # return self.estado == [[1,2,3],[4,5,6],[7,8,0]]\n",
        "\n",
        "    def mover(self, dx, dy):\n",
        "        x, y = self.encontrar_cero()\n",
        "        nuevo_estado = [fila[:] for fila in self.estado]\n",
        "        nuevo_estado[x][y], nuevo_estado[x+dx][y+dy] = nuevo_estado[x+dx][y+dy], nuevo_estado[x][y]\n",
        "        return nuevo_estado\n",
        "\n",
        "    def encontrar_cero(self):\n",
        "        for i in range(3):\n",
        "            for j in range(3):\n",
        "                if self.estado[i][j] == 0:\n",
        "                    return i, j\n",
        "\n",
        "    def generar_vecinos(self):\n",
        "        vecinos = []\n",
        "        x, y = self.encontrar_cero()\n",
        "        for dx, dy, accion in [(-1,0,'Arriba'), (1,0,'Abajo'), (0,-1,'Izquierda'), (0,1,'Derecha')]:\n",
        "            if 0 <= x+dx < 3 and 0 <= y+dy < 3:\n",
        "                nuevo_estado = self.mover(dx, dy)\n",
        "                vecinos.append(Puzzle(nuevo_estado, accion, self.movimientos + 1))\n",
        "        return vecinos\n",
        "\n",
        "def resolver(estado_inicial):\n",
        "    inicio = Puzzle(estado_inicial)\n",
        "    if not es_solucionable(estado_inicial):\n",
        "        return None, \"No es solucionable\"\n",
        "\n",
        "    cola = []\n",
        "    heapq.heappush(cola, inicio)\n",
        "    visitados = set()\n",
        "    visitados.add(inicio)\n",
        "\n",
        "    while cola:\n",
        "        actual = heapq.heappop(cola)\n",
        "        if actual.es_objetivo():\n",
        "            movimientos = []\n",
        "            while actual.movimiento_previo:\n",
        "                movimientos.append(actual.movimiento_previo)\n",
        "                actual = actual.padre\n",
        "            return movimientos[::-1], \"Resuelto\"\n",
        "\n",
        "        for vecino in actual.generar_vecinos():\n",
        "            if vecino not in visitados:\n",
        "                vecino.padre = actual\n",
        "                heapq.heappush(cola, vecino)\n",
        "                visitados.add(vecino)\n",
        "    return None, \"No se encontro solucion\"\n",
        "\n",
        "def es_solucionable(estado):\n",
        "    lista = [numero for fila in estado for numero in fila if numero != 0]\n",
        "    inversiones = 0\n",
        "    for i in range(len(lista)):\n",
        "        for j in range(i+1, len(lista)):\n",
        "            if lista[i] > lista[j]:\n",
        "                inversiones += 1\n",
        "    return inversiones % 2 == 0"
      ],
      "metadata": {
        "id": "niBQNHU3Utgy"
      },
      "execution_count": 13,
      "outputs": []
    },
    {
      "cell_type": "markdown",
      "source": [
        "Ahora probaremos el funcionamiento del programa"
      ],
      "metadata": {
        "id": "UcFCjic-WFWq"
      }
    },
    {
      "cell_type": "code",
      "source": [
        "# Ejemplo de uso\n",
        "if __name__ == \"__main__\":\n",
        "    estado_inicial = [\n",
        "        [1, 2, 3],\n",
        "        [4, 0, 6],\n",
        "        [7, 5, 8]\n",
        "    ]\n",
        "\n",
        "    solucion, mensaje = resolver(estado_inicial)\n",
        "    print(mensaje)\n",
        "    if solucion:\n",
        "        print(\"Pasos para resolver:\", len(solucion))\n",
        "        print(\"Secuencia de movimientos:\", solucion)"
      ],
      "metadata": {
        "colab": {
          "base_uri": "https://localhost:8080/"
        },
        "id": "qvT5wST9WDuy",
        "outputId": "393fafd7-cfdf-46b5-ad7e-7b3150aca410"
      },
      "execution_count": 7,
      "outputs": [
        {
          "output_type": "stream",
          "name": "stdout",
          "text": [
            "Resuelto\n",
            "Pasos para resolver: 2\n",
            "Secuencia de movimientos: ['Abajo', 'Derecha']\n"
          ]
        }
      ]
    },
    {
      "cell_type": "code",
      "source": [
        "# Ejemplo de uso en clase 1\n",
        "if __name__ == \"__main__\":\n",
        "    estado_inicial = [\n",
        "        [0, 1, 3],\n",
        "        [4, 2, 5],\n",
        "        [7, 8, 6]\n",
        "    ]\n",
        "\n",
        "    solucion, mensaje = resolver(estado_inicial)\n",
        "    print(mensaje)\n",
        "    if solucion:\n",
        "        print(\"Pasos para resolver:\", len(solucion))\n",
        "        print(\"Secuencia de movimientos:\", solucion)"
      ],
      "metadata": {
        "colab": {
          "base_uri": "https://localhost:8080/"
        },
        "id": "AVoYG28xWqm5",
        "outputId": "f28502c8-52ac-4864-e3ef-5e994e6f053d"
      },
      "execution_count": 8,
      "outputs": [
        {
          "output_type": "stream",
          "name": "stdout",
          "text": [
            "Resuelto\n",
            "Pasos para resolver: 4\n",
            "Secuencia de movimientos: ['Derecha', 'Abajo', 'Derecha', 'Abajo']\n"
          ]
        }
      ]
    },
    {
      "cell_type": "code",
      "source": [
        "# Ejemplo de uso en clase 2\n",
        "if __name__ == \"__main__\":\n",
        "    estado_inicial = [\n",
        "        [0, 1, 3],\n",
        "        [4, 2, 5],\n",
        "        [7, 8, 6]\n",
        "    ]\n",
        "\n",
        "    solucion, mensaje = resolver(estado_inicial)\n",
        "    print(mensaje)\n",
        "    if solucion:\n",
        "        print(\"Pasos para resolver:\", len(solucion))\n",
        "        print(\"Secuencia de movimientos:\", solucion)\n",
        "\n",
        "    print(\"Estado Inicial\")\n",
        "    print(estado_inicial)"
      ],
      "metadata": {
        "colab": {
          "base_uri": "https://localhost:8080/"
        },
        "id": "19MEfLFnYds5",
        "outputId": "2b7f0fe2-2682-4155-df80-9d9a9a22c5e3"
      },
      "execution_count": 14,
      "outputs": [
        {
          "output_type": "stream",
          "name": "stdout",
          "text": [
            "Resuelto\n",
            "Pasos para resolver: 4\n",
            "Secuencia de movimientos: ['Derecha', 'Abajo', 'Derecha', 'Abajo']\n",
            "Estado Inicial\n",
            "[[0, 1, 3], [4, 2, 5], [7, 8, 6]]\n"
          ]
        }
      ]
    }
  ]
}